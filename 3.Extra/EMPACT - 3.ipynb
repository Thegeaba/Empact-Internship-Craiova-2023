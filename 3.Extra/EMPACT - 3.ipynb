{
 "cells": [
  {
   "cell_type": "code",
   "execution_count": 2,
   "id": "495919ca",
   "metadata": {},
   "outputs": [
    {
     "data": {
      "text/plain": [
       "'2.4.2'"
      ]
     },
     "execution_count": 2,
     "metadata": {},
     "output_type": "execute_result"
    }
   ],
   "source": [
    "def production_version(Input):\n",
    "    for i in Input:\n",
    "        split = i.split(\"-\")\n",
    "        left = split[0]\n",
    "        right = split[1]\n",
    "\n",
    "        if \".\" not in right:\n",
    "            split2 = left.split(\".\")\n",
    "            majorNumber = split2[0]\n",
    "            minorNumber = split2[1]\n",
    "            bugFixNumber = split2[2]\n",
    "            branchNameAndNumber = right\n",
    "\n",
    "            # production_version = majorNumber + \".\" + minorNumber + \".\" + bugFixNumber\n",
    "            # print(\"Production version:\", production_version)\n",
    "            return majorNumber + \".\" + minorNumber + \".\" + bugFixNumber\n",
    "        \n",
    "\n",
    "Input = [\"2.5.0-dev.1\", \"2.4.2-5354\", \"2.4.2-test.675\", \"2.4.1-integration.1\"]\n",
    "production_version(Input)"
   ]
  },
  {
   "cell_type": "code",
   "execution_count": null,
   "id": "b630dafc",
   "metadata": {},
   "outputs": [],
   "source": []
  }
 ],
 "metadata": {
  "kernelspec": {
   "display_name": "Python 3",
   "language": "python",
   "name": "python3"
  },
  "language_info": {
   "codemirror_mode": {
    "name": "ipython",
    "version": 3
   },
   "file_extension": ".py",
   "mimetype": "text/x-python",
   "name": "python",
   "nbconvert_exporter": "python",
   "pygments_lexer": "ipython3",
   "version": "3.8.8"
  }
 },
 "nbformat": 4,
 "nbformat_minor": 5
}
